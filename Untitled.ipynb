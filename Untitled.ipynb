{
 "cells": [
  {
   "cell_type": "code",
   "execution_count": 1,
   "id": "1c271667",
   "metadata": {},
   "outputs": [
    {
     "ename": "ImportError",
     "evalue": "cannot import name 'DeepFace' from partially initialized module 'deepface' (most likely due to a circular import) (/Users/d0mi/Projects/OpenCV/Senior-Design-Project/deepface.py)",
     "output_type": "error",
     "traceback": [
      "\u001b[0;31m---------------------------------------------------------------------------\u001b[0m",
      "\u001b[0;31mImportError\u001b[0m                               Traceback (most recent call last)",
      "Input \u001b[0;32mIn [1]\u001b[0m, in \u001b[0;36m<module>\u001b[0;34m\u001b[0m\n\u001b[0;32m----> 1\u001b[0m \u001b[38;5;28;01mfrom\u001b[39;00m \u001b[38;5;21;01mdeepface\u001b[39;00m \u001b[38;5;28;01mimport\u001b[39;00m DeepFace\n",
      "File \u001b[0;32m~/Projects/OpenCV/Senior-Design-Project/deepface.py:1\u001b[0m, in \u001b[0;36m<module>\u001b[0;34m\u001b[0m\n\u001b[0;32m----> 1\u001b[0m \u001b[38;5;28;01mfrom\u001b[39;00m \u001b[38;5;21;01mdeepface\u001b[39;00m \u001b[38;5;28;01mimport\u001b[39;00m DeepFace\n\u001b[1;32m      3\u001b[0m img1_path \u001b[38;5;241m=\u001b[39m \u001b[38;5;124m\"\u001b[39m\u001b[38;5;124mdataset/img1.jpg\u001b[39m\u001b[38;5;124m\"\u001b[39m\n\u001b[1;32m      4\u001b[0m img2_path \u001b[38;5;241m=\u001b[39m \u001b[38;5;124m\"\u001b[39m\u001b[38;5;124mdataset/img2.jpg\u001b[39m\u001b[38;5;124m\"\u001b[39m\n",
      "\u001b[0;31mImportError\u001b[0m: cannot import name 'DeepFace' from partially initialized module 'deepface' (most likely due to a circular import) (/Users/d0mi/Projects/OpenCV/Senior-Design-Project/deepface.py)"
     ]
    }
   ],
   "source": [
    "from deepface import DeepFace"
   ]
  },
  {
   "cell_type": "code",
   "execution_count": null,
   "id": "2ad669e5",
   "metadata": {},
   "outputs": [],
   "source": []
  },
  {
   "cell_type": "code",
   "execution_count": null,
   "id": "7fddcc8a",
   "metadata": {},
   "outputs": [],
   "source": []
  },
  {
   "cell_type": "code",
   "execution_count": 1,
   "id": "fea99319",
   "metadata": {},
   "outputs": [
    {
     "name": "stdout",
     "output_type": "stream",
     "text": [
      "Directory  /Users/d0mi /.deepface created\n",
      "Directory  /Users/d0mi /.deepface/weights created\n"
     ]
    }
   ],
   "source": [
    "from deepface import DeepFace"
   ]
  },
  {
   "cell_type": "code",
   "execution_count": 2,
   "id": "54292195",
   "metadata": {},
   "outputs": [],
   "source": [
    "img1_path = \"dataset/img1.jpg\"\n",
    "img2_path = \"dataset/img2.jpg\"\n"
   ]
  },
  {
   "cell_type": "code",
   "execution_count": 3,
   "id": "f8a6c0cc",
   "metadata": {},
   "outputs": [
    {
     "name": "stdout",
     "output_type": "stream",
     "text": [
      "vgg_face_weights.h5 will be downloaded...\n"
     ]
    },
    {
     "name": "stderr",
     "output_type": "stream",
     "text": [
      "Downloading...\n",
      "From: https://github.com/serengil/deepface_models/releases/download/v1.0/vgg_face_weights.h5\n",
      "To: /Users/d0mi/.deepface/weights/vgg_face_weights.h5\n",
      "100%|█████████████████████████████████████████████████████████████████████████████| 580M/580M [01:28<00:00, 6.59MB/s]\n"
     ]
    },
    {
     "ename": "ValueError",
     "evalue": "('Confirm that ', 'img1.jpg', ' exists')",
     "output_type": "error",
     "traceback": [
      "\u001b[0;31m---------------------------------------------------------------------------\u001b[0m",
      "\u001b[0;31mValueError\u001b[0m                                Traceback (most recent call last)",
      "Input \u001b[0;32mIn [3]\u001b[0m, in \u001b[0;36m<module>\u001b[0;34m\u001b[0m\n\u001b[0;32m----> 1\u001b[0m result \u001b[38;5;241m=\u001b[39m \u001b[43mDeepFace\u001b[49m\u001b[38;5;241;43m.\u001b[39;49m\u001b[43mverify\u001b[49m\u001b[43m(\u001b[49m\u001b[43mimg1_path\u001b[49m\u001b[43m \u001b[49m\u001b[38;5;241;43m=\u001b[39;49m\u001b[43m \u001b[49m\u001b[38;5;124;43m\"\u001b[39;49m\u001b[38;5;124;43mimg1.jpg\u001b[39;49m\u001b[38;5;124;43m\"\u001b[39;49m\u001b[43m,\u001b[49m\u001b[43m \u001b[49m\u001b[43mimg2_path\u001b[49m\u001b[43m \u001b[49m\u001b[38;5;241;43m=\u001b[39;49m\u001b[43m \u001b[49m\u001b[38;5;124;43m\"\u001b[39;49m\u001b[38;5;124;43mimg2.jpg\u001b[39;49m\u001b[38;5;124;43m\"\u001b[39;49m\u001b[43m)\u001b[49m\n",
      "File \u001b[0;32m/Library/Frameworks/Python.framework/Versions/3.9/lib/python3.9/site-packages/deepface/DeepFace.py:161\u001b[0m, in \u001b[0;36mverify\u001b[0;34m(img1_path, img2_path, model_name, distance_metric, model, enforce_detection, detector_backend, align, prog_bar, normalization)\u001b[0m\n\u001b[1;32m    158\u001b[0m custom_model \u001b[38;5;241m=\u001b[39m models[i]\n\u001b[1;32m    160\u001b[0m \u001b[38;5;66;03m#img_path, model_name = 'VGG-Face', model = None, enforce_detection = True, detector_backend = 'mtcnn'\u001b[39;00m\n\u001b[0;32m--> 161\u001b[0m img1_representation \u001b[38;5;241m=\u001b[39m \u001b[43mrepresent\u001b[49m\u001b[43m(\u001b[49m\u001b[43mimg_path\u001b[49m\u001b[43m \u001b[49m\u001b[38;5;241;43m=\u001b[39;49m\u001b[43m \u001b[49m\u001b[43mimg1_path\u001b[49m\n\u001b[1;32m    162\u001b[0m \u001b[43m\t\t\u001b[49m\u001b[43m,\u001b[49m\u001b[43m \u001b[49m\u001b[43mmodel_name\u001b[49m\u001b[43m \u001b[49m\u001b[38;5;241;43m=\u001b[39;49m\u001b[43m \u001b[49m\u001b[43mmodel_name\u001b[49m\u001b[43m,\u001b[49m\u001b[43m \u001b[49m\u001b[43mmodel\u001b[49m\u001b[43m \u001b[49m\u001b[38;5;241;43m=\u001b[39;49m\u001b[43m \u001b[49m\u001b[43mcustom_model\u001b[49m\n\u001b[1;32m    163\u001b[0m \u001b[43m\t\t\u001b[49m\u001b[43m,\u001b[49m\u001b[43m \u001b[49m\u001b[43menforce_detection\u001b[49m\u001b[43m \u001b[49m\u001b[38;5;241;43m=\u001b[39;49m\u001b[43m \u001b[49m\u001b[43menforce_detection\u001b[49m\u001b[43m,\u001b[49m\u001b[43m \u001b[49m\u001b[43mdetector_backend\u001b[49m\u001b[43m \u001b[49m\u001b[38;5;241;43m=\u001b[39;49m\u001b[43m \u001b[49m\u001b[43mdetector_backend\u001b[49m\n\u001b[1;32m    164\u001b[0m \u001b[43m\t\t\u001b[49m\u001b[43m,\u001b[49m\u001b[43m \u001b[49m\u001b[43malign\u001b[49m\u001b[43m \u001b[49m\u001b[38;5;241;43m=\u001b[39;49m\u001b[43m \u001b[49m\u001b[43malign\u001b[49m\n\u001b[1;32m    165\u001b[0m \u001b[43m\t\t\u001b[49m\u001b[43m,\u001b[49m\u001b[43m \u001b[49m\u001b[43mnormalization\u001b[49m\u001b[43m \u001b[49m\u001b[38;5;241;43m=\u001b[39;49m\u001b[43m \u001b[49m\u001b[43mnormalization\u001b[49m\n\u001b[1;32m    166\u001b[0m \u001b[43m\t\t\u001b[49m\u001b[43m)\u001b[49m\n\u001b[1;32m    168\u001b[0m img2_representation \u001b[38;5;241m=\u001b[39m represent(img_path \u001b[38;5;241m=\u001b[39m img2_path\n\u001b[1;32m    169\u001b[0m \t\t, model_name \u001b[38;5;241m=\u001b[39m model_name, model \u001b[38;5;241m=\u001b[39m custom_model\n\u001b[1;32m    170\u001b[0m \t\t, enforce_detection \u001b[38;5;241m=\u001b[39m enforce_detection, detector_backend \u001b[38;5;241m=\u001b[39m detector_backend\n\u001b[1;32m    171\u001b[0m \t\t, align \u001b[38;5;241m=\u001b[39m align\n\u001b[1;32m    172\u001b[0m \t\t, normalization \u001b[38;5;241m=\u001b[39m normalization\n\u001b[1;32m    173\u001b[0m \t\t)\n\u001b[1;32m    175\u001b[0m \u001b[38;5;66;03m#----------------------\u001b[39;00m\n\u001b[1;32m    176\u001b[0m \u001b[38;5;66;03m#find distances between embeddings\u001b[39;00m\n",
      "File \u001b[0;32m/Library/Frameworks/Python.framework/Versions/3.9/lib/python3.9/site-packages/deepface/DeepFace.py:752\u001b[0m, in \u001b[0;36mrepresent\u001b[0;34m(img_path, model_name, model, enforce_detection, detector_backend, align, normalization)\u001b[0m\n\u001b[1;32m    749\u001b[0m input_shape_x, input_shape_y \u001b[38;5;241m=\u001b[39m functions\u001b[38;5;241m.\u001b[39mfind_input_shape(model)\n\u001b[1;32m    751\u001b[0m \u001b[38;5;66;03m#detect and align\u001b[39;00m\n\u001b[0;32m--> 752\u001b[0m img \u001b[38;5;241m=\u001b[39m \u001b[43mfunctions\u001b[49m\u001b[38;5;241;43m.\u001b[39;49m\u001b[43mpreprocess_face\u001b[49m\u001b[43m(\u001b[49m\u001b[43mimg\u001b[49m\u001b[43m \u001b[49m\u001b[38;5;241;43m=\u001b[39;49m\u001b[43m \u001b[49m\u001b[43mimg_path\u001b[49m\n\u001b[1;32m    753\u001b[0m \u001b[43m\t\u001b[49m\u001b[43m,\u001b[49m\u001b[43m \u001b[49m\u001b[43mtarget_size\u001b[49m\u001b[38;5;241;43m=\u001b[39;49m\u001b[43m(\u001b[49m\u001b[43minput_shape_y\u001b[49m\u001b[43m,\u001b[49m\u001b[43m \u001b[49m\u001b[43minput_shape_x\u001b[49m\u001b[43m)\u001b[49m\n\u001b[1;32m    754\u001b[0m \u001b[43m\t\u001b[49m\u001b[43m,\u001b[49m\u001b[43m \u001b[49m\u001b[43menforce_detection\u001b[49m\u001b[43m \u001b[49m\u001b[38;5;241;43m=\u001b[39;49m\u001b[43m \u001b[49m\u001b[43menforce_detection\u001b[49m\n\u001b[1;32m    755\u001b[0m \u001b[43m\t\u001b[49m\u001b[43m,\u001b[49m\u001b[43m \u001b[49m\u001b[43mdetector_backend\u001b[49m\u001b[43m \u001b[49m\u001b[38;5;241;43m=\u001b[39;49m\u001b[43m \u001b[49m\u001b[43mdetector_backend\u001b[49m\n\u001b[1;32m    756\u001b[0m \u001b[43m\t\u001b[49m\u001b[43m,\u001b[49m\u001b[43m \u001b[49m\u001b[43malign\u001b[49m\u001b[43m \u001b[49m\u001b[38;5;241;43m=\u001b[39;49m\u001b[43m \u001b[49m\u001b[43malign\u001b[49m\u001b[43m)\u001b[49m\n\u001b[1;32m    758\u001b[0m \u001b[38;5;66;03m#---------------------------------\u001b[39;00m\n\u001b[1;32m    759\u001b[0m \u001b[38;5;66;03m#custom normalization\u001b[39;00m\n\u001b[1;32m    761\u001b[0m img \u001b[38;5;241m=\u001b[39m functions\u001b[38;5;241m.\u001b[39mnormalize_input(img \u001b[38;5;241m=\u001b[39m img, normalization \u001b[38;5;241m=\u001b[39m normalization)\n",
      "File \u001b[0;32m/Library/Frameworks/Python.framework/Versions/3.9/lib/python3.9/site-packages/deepface/commons/functions.py:175\u001b[0m, in \u001b[0;36mpreprocess_face\u001b[0;34m(img, target_size, grayscale, enforce_detection, detector_backend, return_region, align)\u001b[0m\n\u001b[1;32m    172\u001b[0m \u001b[38;5;28;01mdef\u001b[39;00m \u001b[38;5;21mpreprocess_face\u001b[39m(img, target_size\u001b[38;5;241m=\u001b[39m(\u001b[38;5;241m224\u001b[39m, \u001b[38;5;241m224\u001b[39m), grayscale \u001b[38;5;241m=\u001b[39m \u001b[38;5;28;01mFalse\u001b[39;00m, enforce_detection \u001b[38;5;241m=\u001b[39m \u001b[38;5;28;01mTrue\u001b[39;00m, detector_backend \u001b[38;5;241m=\u001b[39m \u001b[38;5;124m'\u001b[39m\u001b[38;5;124mopencv\u001b[39m\u001b[38;5;124m'\u001b[39m, return_region \u001b[38;5;241m=\u001b[39m \u001b[38;5;28;01mFalse\u001b[39;00m, align \u001b[38;5;241m=\u001b[39m \u001b[38;5;28;01mTrue\u001b[39;00m):\n\u001b[1;32m    173\u001b[0m \n\u001b[1;32m    174\u001b[0m \t\u001b[38;5;66;03m#img might be path, base64 or numpy array. Convert it to numpy whatever it is.\u001b[39;00m\n\u001b[0;32m--> 175\u001b[0m \timg \u001b[38;5;241m=\u001b[39m \u001b[43mload_image\u001b[49m\u001b[43m(\u001b[49m\u001b[43mimg\u001b[49m\u001b[43m)\u001b[49m\n\u001b[1;32m    176\u001b[0m \tbase_img \u001b[38;5;241m=\u001b[39m img\u001b[38;5;241m.\u001b[39mcopy()\n\u001b[1;32m    178\u001b[0m \timg, region \u001b[38;5;241m=\u001b[39m detect_face(img \u001b[38;5;241m=\u001b[39m img, detector_backend \u001b[38;5;241m=\u001b[39m detector_backend, grayscale \u001b[38;5;241m=\u001b[39m grayscale, enforce_detection \u001b[38;5;241m=\u001b[39m enforce_detection, align \u001b[38;5;241m=\u001b[39m align)\n",
      "File \u001b[0;32m/Library/Frameworks/Python.framework/Versions/3.9/lib/python3.9/site-packages/deepface/commons/functions.py:90\u001b[0m, in \u001b[0;36mload_image\u001b[0;34m(img)\u001b[0m\n\u001b[1;32m     88\u001b[0m \u001b[38;5;28;01melif\u001b[39;00m exact_image \u001b[38;5;241m!=\u001b[39m \u001b[38;5;28;01mTrue\u001b[39;00m: \u001b[38;5;66;03m#image path passed as input\u001b[39;00m\n\u001b[1;32m     89\u001b[0m \t\u001b[38;5;28;01mif\u001b[39;00m os\u001b[38;5;241m.\u001b[39mpath\u001b[38;5;241m.\u001b[39misfile(img) \u001b[38;5;241m!=\u001b[39m \u001b[38;5;28;01mTrue\u001b[39;00m:\n\u001b[0;32m---> 90\u001b[0m \t\t\u001b[38;5;28;01mraise\u001b[39;00m \u001b[38;5;167;01mValueError\u001b[39;00m(\u001b[38;5;124m\"\u001b[39m\u001b[38;5;124mConfirm that \u001b[39m\u001b[38;5;124m\"\u001b[39m,img,\u001b[38;5;124m\"\u001b[39m\u001b[38;5;124m exists\u001b[39m\u001b[38;5;124m\"\u001b[39m)\n\u001b[1;32m     92\u001b[0m \timg \u001b[38;5;241m=\u001b[39m cv2\u001b[38;5;241m.\u001b[39mimread(img)\n\u001b[1;32m     94\u001b[0m \u001b[38;5;28;01mreturn\u001b[39;00m img\n",
      "\u001b[0;31mValueError\u001b[0m: ('Confirm that ', 'img1.jpg', ' exists')"
     ]
    }
   ],
   "source": [
    "result = DeepFace.verify(img1_path = img1_path, img2_path = \"img2.jpg\")"
   ]
  },
  {
   "cell_type": "code",
   "execution_count": null,
   "id": "f8d92d55",
   "metadata": {},
   "outputs": [],
   "source": []
  }
 ],
 "metadata": {
  "kernelspec": {
   "display_name": "Python 3 (ipykernel)",
   "language": "python",
   "name": "python3"
  },
  "language_info": {
   "codemirror_mode": {
    "name": "ipython",
    "version": 3
   },
   "file_extension": ".py",
   "mimetype": "text/x-python",
   "name": "python",
   "nbconvert_exporter": "python",
   "pygments_lexer": "ipython3",
   "version": "3.9.6"
  }
 },
 "nbformat": 4,
 "nbformat_minor": 5
}
