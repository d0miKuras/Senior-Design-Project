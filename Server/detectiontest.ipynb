{
 "cells": [
  {
   "cell_type": "code",
   "execution_count": 3,
   "metadata": {},
   "outputs": [],
   "source": [
    "from deepface.basemodels import VGGFace, OpenFace, Facenet, FbDeepFace\n",
    "from deepface.commons import functions\n",
    "from deepface import DeepFace\n",
    "import numpy as np\n",
    "import time"
   ]
  },
  {
   "cell_type": "code",
   "execution_count": 8,
   "metadata": {},
   "outputs": [
    {
     "name": "stdout",
     "output_type": "stream",
     "text": [
      "opencv average time = 0.283924724817276\n",
      "ssd average time = 0.14103448891639708\n",
      "mtcnn average time = 1.3024267029762269\n"
     ]
    }
   ],
   "source": [
    "backends = ['opencv', 'ssd', 'mtcnn']\n",
    "img1 = \"dataset/img1.jpg\"\n",
    "\n",
    "for backend in backends:\n",
    "    results = []\n",
    "    for _ in range(0, 1000):\n",
    "        tic = time.time()\n",
    "        DeepFace.detectFace(img_path= img1, detector_backend= backend)\n",
    "        toc = time.time()\n",
    "        results.append(toc - tic)\n",
    "    print(backend + ' average time = ' + str(np.average(results)))\n",
    "\n"
   ]
  },
  {
   "cell_type": "markdown",
   "metadata": {},
   "source": [
    "asdasdasd\n"
   ]
  },
  {
   "cell_type": "code",
   "execution_count": 5,
   "metadata": {},
   "outputs": [
    {
     "data": {
      "text/plain": [
       "'4.0'"
      ]
     },
     "execution_count": 5,
     "metadata": {},
     "output_type": "execute_result"
    }
   ],
   "source": [
    "str(np.average([3, 4, 5]))"
   ]
  }
 ],
 "metadata": {
  "interpreter": {
   "hash": "aee8b7b246df8f9039afb4144a1f6fd8d2ca17a180786b69acc140d282b71a49"
  },
  "kernelspec": {
   "display_name": "Python 3.10.2 64-bit",
   "language": "python",
   "name": "python3"
  },
  "language_info": {
   "codemirror_mode": {
    "name": "ipython",
    "version": 3
   },
   "file_extension": ".py",
   "mimetype": "text/x-python",
   "name": "python",
   "nbconvert_exporter": "python",
   "pygments_lexer": "ipython3",
   "version": "3.10.2"
  },
  "orig_nbformat": 4
 },
 "nbformat": 4,
 "nbformat_minor": 2
}
